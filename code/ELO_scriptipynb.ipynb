{
  "cells": [
    {
      "cell_type": "markdown",
      "metadata": {
        "id": "lVH8Tj0SHzYk"
      },
      "source": [
        "# ELO aplicado a los torneos de Pato"
      ]
    },
    {
      "cell_type": "code",
      "execution_count": 25,
      "metadata": {
        "colab": {
          "base_uri": "https://localhost:8080/"
        },
        "collapsed": true,
        "id": "Ve0UaD4lCdJy",
        "outputId": "150326e1-587e-41ef-bc3b-6ca022506584"
      },
      "outputs": [
        {
          "name": "stdout",
          "output_type": "stream",
          "text": [
            "The autoreload extension is already loaded. To reload it, use:\n",
            "  %reload_ext autoreload\n"
          ]
        }
      ],
      "source": [
        "import pandas as pd\n",
        "import numpy as np\n",
        "import random\n",
        "\n",
        "# OPTIONAL: Load the \"autoreload\" extension so that code can change\n",
        "%load_ext autoreload\n",
        "\n",
        "# OPTIONAL: always reload modules so that as you change code in src, it gets loaded\n",
        "%autoreload 2\n",
        "\n",
        "from src.features import build_features\n",
        "from src.tournaments import utilities\n",
        "from src.visualization import visualize"
      ]
    },
    {
      "cell_type": "code",
      "execution_count": 6,
      "metadata": {},
      "outputs": [],
      "source": [
        "\n",
        "data = pd.read_excel('../data/raw/data_pato_tournaments.xlsx', header=None,\n",
        "                     names=['playerA1', 'playerA2', 'scoreA', 'vs', 'playerB1', 'playerB2', 'scoreB'])\n",
        "\n",
        "data.head()\n",
        "\n",
        "def get_result(row):\n",
        "  if(row['scoreA'] > row['scoreB']):\n",
        "    result = 1\n",
        "  else:\n",
        "    result = 0\n",
        "  return result\n",
        "\n",
        "data['result'] = data.apply (lambda row: get_result(row), axis=1)"
      ]
    },
    {
      "cell_type": "markdown",
      "metadata": {
        "id": "kCtTvI9TH94f"
      },
      "source": [
        "## Preparando los datos"
      ]
    },
    {
      "cell_type": "markdown",
      "metadata": {
        "id": "DLyP8DQKIFrx"
      },
      "source": [
        "Primero seteamos que todos los jugadores tengan un ELO base de 1400"
      ]
    },
    {
      "cell_type": "code",
      "execution_count": 42,
      "metadata": {
        "colab": {
          "base_uri": "https://localhost:8080/"
        },
        "id": "FAHj9Ty_Ej4y",
        "outputId": "59e2d50e-2dc6-4142-e821-77a7ae15398f"
      },
      "outputs": [
        {
          "data": {
            "text/plain": [
              "{'Alejandro Vasquez': [1400],\n",
              " 'Agustin Aldunate': [1400],\n",
              " 'Jose Carvallo': [1400],\n",
              " 'Alfonso Concha': [1400],\n",
              " 'Rodrigo Holmberg': [1400],\n",
              " 'Alonso Astroza': [1400],\n",
              " 'Andres Abujatum': [1400],\n",
              " 'Fernando Feres': [1400],\n",
              " 'Patricio Roman': [1400],\n",
              " 'Sergio Concha': [1400],\n",
              " 'Rodrigo Zigante': [1400],\n",
              " 'Daniel Vega': [1400]}"
            ]
          },
          "execution_count": 42,
          "metadata": {},
          "output_type": "execute_result"
        }
      ],
      "source": [
        "players_names = set(list(data['playerA1'])+list(data['playerA2'])+list(data['playerB1'])+list(data['playerB2']))\n",
        "players = { i : [1400] for i in players_names }\n",
        "players"
      ]
    },
    {
      "cell_type": "markdown",
      "metadata": {
        "id": "SCl3L8t_RbGg"
      },
      "source": [
        "Procesamos los partidos de los dos torneos disponibles."
      ]
    },
    {
      "cell_type": "code",
      "execution_count": 43,
      "metadata": {
        "colab": {
          "base_uri": "https://localhost:8080/"
        },
        "id": "WYr5nU8oFUSD",
        "outputId": "047c9ca9-760e-4b63-d646-d1b321279f0c"
      },
      "outputs": [
        {
          "data": {
            "text/plain": [
              "['Partido Procesado',\n",
              " 'Partido Procesado',\n",
              " 'Partido Procesado',\n",
              " 'Partido Procesado',\n",
              " 'Partido Procesado',\n",
              " 'Partido Procesado',\n",
              " 'Partido Procesado',\n",
              " 'Partido Procesado',\n",
              " 'Partido Procesado',\n",
              " 'Partido Procesado',\n",
              " 'Partido Procesado',\n",
              " 'Partido Procesado',\n",
              " 'Partido Procesado',\n",
              " 'Partido Procesado',\n",
              " 'Partido Procesado',\n",
              " 'Partido Procesado',\n",
              " 'Partido Procesado',\n",
              " 'Partido Procesado',\n",
              " 'Partido Procesado',\n",
              " 'Partido Procesado',\n",
              " 'Partido Procesado',\n",
              " 'Partido Procesado',\n",
              " 'Partido Procesado']"
            ]
          },
          "execution_count": 43,
          "metadata": {},
          "output_type": "execute_result"
        }
      ],
      "source": [
        "[build_features.update_ELO(players, row[0], row[1], row[2], row[3], row[4]) for row in zip(data['playerA1'], data['playerA2'], data['playerB1'], data['playerB2'], data['result'])]"
      ]
    },
    {
      "cell_type": "markdown",
      "metadata": {
        "id": "zAk-6K6UQLnz"
      },
      "source": [
        "Entonces el ELO de cada jugador luego de los dos primeros torneos es el siguiente:"
      ]
    },
    {
      "cell_type": "code",
      "execution_count": 44,
      "metadata": {
        "colab": {
          "base_uri": "https://localhost:8080/"
        },
        "id": "ddukp7UnKtwi",
        "outputId": "a4fe092f-b833-4d90-cc92-19e9d3c851aa"
      },
      "outputs": [
        {
          "data": {
            "text/plain": [
              "[['Alejandro Vasquez', 1491.5124236742668],\n",
              " ['Patricio Roman', 1447.0633400934726],\n",
              " ['Andres Abujatum', 1443.887168202283],\n",
              " ['Alfonso Concha', 1442.0050605094439],\n",
              " ['Rodrigo Holmberg', 1440.9447914899001],\n",
              " ['Sergio Concha', 1430.8189309499837],\n",
              " ['Daniel Vega', 1419.6394519912478],\n",
              " ['Alonso Astroza', 1361.476543040606],\n",
              " ['Jose Carvallo', 1358.7589199060117],\n",
              " ['Fernando Feres', 1358.7589199060117],\n",
              " ['Agustin Aldunate', 1304.8902432537302],\n",
              " ['Rodrigo Zigante', 1300.436731529382]]"
            ]
          },
          "execution_count": 44,
          "metadata": {},
          "output_type": "execute_result"
        }
      ],
      "source": [
        "sorted([[name, elos[-1]] for name, elos in players.items()], key=lambda item: item[1], reverse=True)"
      ]
    },
    {
      "cell_type": "code",
      "execution_count": 28,
      "metadata": {},
      "outputs": [
        {
          "data": {
            "image/png": "[encoded data removed]",
            "text/plain": [
              "<Figure size 864x432 with 1 Axes>"
            ]
          },
          "metadata": {
            "needs_background": "light"
          },
          "output_type": "display_data"
        }
      ],
      "source": [
        "visualize.plot_elo_rating(players, 'ELO rating evolution')"
      ]
    },
    {
      "cell_type": "markdown",
      "metadata": {
        "id": "s84hPw-2QpeI"
      },
      "source": [
        "## Simulando Torneos"
      ]
    },
    {
      "cell_type": "markdown",
      "metadata": {
        "id": "IeajE1lgQsk8"
      },
      "source": [
        "### Como se define una dupla ganadora al azar"
      ]
    },
    {
      "cell_type": "code",
      "execution_count": 11,
      "metadata": {
        "colab": {
          "base_uri": "https://localhost:8080/"
        },
        "id": "7zwdEdA3SVYP",
        "outputId": "66cefb1c-9096-46f7-bc21-a0ecc0f41e5e"
      },
      "outputs": [
        {
          "data": {
            "text/plain": [
              "1"
            ]
          },
          "execution_count": 11,
          "metadata": {},
          "output_type": "execute_result"
        }
      ],
      "source": [
        "utilities.get_winner_team(players['Alejandro Vasquez'], players['Rodrigo Zigante'], players['Patricio Roman'], players['Agustin Aldunate'])"
      ]
    },
    {
      "cell_type": "markdown",
      "metadata": {
        "id": "Mwoece8WQRxd"
      },
      "source": [
        "## Sistemas de Torneo"
      ]
    },
    {
      "cell_type": "markdown",
      "metadata": {
        "id": "1qa5jDuLQfw5"
      },
      "source": [
        "### Sistema A: Parejas fijas según ELO actual y se juega contra todas las otras parejas (5 rondas)."
      ]
    },
    {
      "cell_type": "code",
      "execution_count": 29,
      "metadata": {
        "id": "Gc9Dp_ebkijV"
      },
      "outputs": [],
      "source": [
        "players_A = players.copy()\n",
        "champs_A = []\n",
        "points_totalA = dict.fromkeys(players_A, 0)\n",
        "for k in range(1000):\n",
        "  players_A = players.copy()\n",
        "  players_names_sorted = sorted(players_A.items(), key=lambda item: item[1], reverse=True)\n",
        "  teams = []\n",
        "  nplayers = len(players_names_sorted)\n",
        "  for i in range(6):\n",
        "    teams.append([players_names_sorted[i][0], players_names_sorted[nplayers-i-1][0]])\n",
        "  fixture = utilities.simulate_draw(teams)\n",
        "  points_A = dict.fromkeys(players_A, 0)\n",
        "  for m in fixture:\n",
        "    r = utilities.get_winner_team(players_A[m[0][0]][-1], players_A[m[0][1]][-1], players_A[m[1][0]][-1], players_A[m[1][1]][-1])\n",
        "    build_features.update_ELO(players_A, m[0][0], m[0][1], m[1][0], m[1][1], r)\n",
        "\n",
        "    if r == 1:\n",
        "      points_A[m[0][0]] += 1\n",
        "      points_A[m[0][1]] += 1\n",
        "      points_totalA[m[0][0]] += 1\n",
        "      points_totalA[m[0][1]] += 1\n",
        "    else:\n",
        "      points_A[m[1][0]] += 1\n",
        "      points_A[m[1][1]] += 1\n",
        "      points_totalA[m[1][0]] += 1\n",
        "      points_totalA[m[1][1]] += 1\n",
        "  \n",
        "  max_points = sorted(points_A.items(), key=lambda item: item[1], reverse=True)[0][1]\n",
        "  champions = [name for name, points in points_A.items() if points == max_points]\n",
        "\n",
        "  champs_A.append(champions)\n"
      ]
    },
    {
      "cell_type": "code",
      "execution_count": 30,
      "metadata": {
        "colab": {
          "base_uri": "https://localhost:8080/"
        },
        "id": "PWaD2bR6jkZn",
        "outputId": "ebbe3da7-56b5-4247-8f59-b877591cc7b4"
      },
      "outputs": [
        {
          "data": {
            "text/plain": [
              "Counter({'Agustin Aldunate': 259,\n",
              "         'Jose Carvallo': 261,\n",
              "         'Rodrigo Holmberg': 259,\n",
              "         'Alonso Astroza': 248,\n",
              "         'Andres Abujatum': 273,\n",
              "         'Fernando Feres': 261,\n",
              "         'Patricio Roman': 273,\n",
              "         'Sergio Concha': 248,\n",
              "         'Daniel Vega': 278,\n",
              "         'Alfonso Concha': 278,\n",
              "         'Alejandro Vasquez': 281,\n",
              "         'Rodrigo Zigante': 281})"
            ]
          },
          "execution_count": 30,
          "metadata": {},
          "output_type": "execute_result"
        }
      ],
      "source": [
        "from collections import Counter\n",
        "\n",
        "Counter(x for xs in champs_A for x in set(xs))"
      ]
    },
    {
      "cell_type": "code",
      "execution_count": 36,
      "metadata": {
        "colab": {
          "base_uri": "https://localhost:8080/"
        },
        "id": "vWcgXVfjEmP7",
        "outputId": "eb642264-0225-42e9-c6cf-f51f949fe18a"
      },
      "outputs": [
        {
          "data": {
            "text/plain": [
              "[('Alfonso Concha', 2539),\n",
              " ('Daniel Vega', 2539),\n",
              " ('Alejandro Vasquez', 2532),\n",
              " ('Rodrigo Zigante', 2532),\n",
              " ('Andres Abujatum', 2528),\n",
              " ('Patricio Roman', 2528),\n",
              " ('Jose Carvallo', 2496),\n",
              " ('Fernando Feres', 2496),\n",
              " ('Agustin Aldunate', 2478),\n",
              " ('Rodrigo Holmberg', 2478),\n",
              " ('Alonso Astroza', 2427),\n",
              " ('Sergio Concha', 2427)]"
            ]
          },
          "execution_count": 36,
          "metadata": {},
          "output_type": "execute_result"
        }
      ],
      "source": [
        "sorted(points_totalA.items(), key=lambda item: item[1], reverse=True)"
      ]
    },
    {
      "cell_type": "code",
      "execution_count": 32,
      "metadata": {
        "colab": {
          "base_uri": "https://localhost:8080/"
        },
        "id": "eA395esKFktY",
        "outputId": "5f2a6d41-8c17-47df-c0df-6f1157c52b28"
      },
      "outputs": [
        {
          "data": {
            "text/plain": [
              "[('Alfonso Concha', 0.16926666666666668),\n",
              " ('Daniel Vega', 0.16926666666666668),\n",
              " ('Alejandro Vasquez', 0.1688),\n",
              " ('Rodrigo Zigante', 0.1688),\n",
              " ('Andres Abujatum', 0.16853333333333334),\n",
              " ('Patricio Roman', 0.16853333333333334),\n",
              " ('Jose Carvallo', 0.1664),\n",
              " ('Fernando Feres', 0.1664),\n",
              " ('Agustin Aldunate', 0.1652),\n",
              " ('Rodrigo Holmberg', 0.1652),\n",
              " ('Alonso Astroza', 0.1618),\n",
              " ('Sergio Concha', 0.1618)]"
            ]
          },
          "execution_count": 32,
          "metadata": {},
          "output_type": "execute_result"
        }
      ],
      "source": [
        "points_total_normalizedA = {k: v / total for total in (sum(points_totalA.values())/2,) for k, v in points_totalA.items()}\n",
        "sorted(points_total_normalizedA.items(), key=lambda item: item[1], reverse=True)"
      ]
    },
    {
      "cell_type": "markdown",
      "metadata": {
        "id": "6qaBe2FhQ2Fv"
      },
      "source": [
        "### Sistema B: Parejas dinámicas según ELO posterior a cada ronda, se juegan 5 rondas."
      ]
    },
    {
      "cell_type": "code",
      "execution_count": 33,
      "metadata": {
        "id": "agZ0S-3zm5qU"
      },
      "outputs": [],
      "source": [
        "champsB = []\n",
        "players_B = players.copy()\n",
        "points_totalB = dict.fromkeys(players_B, 0)\n",
        "for k in range(1000):\n",
        "  players_B = players.copy()\n",
        "  for j in range(5):\n",
        "    players_names_sorted = sorted(players_B.items(), key=lambda item: item[1], reverse=True)\n",
        "    teams = []\n",
        "    nplayers = len(players_names_sorted)\n",
        "    for i in range(6):\n",
        "      teams.append([players_names_sorted[i][0], players_names_sorted[nplayers-i-1][0]])\n",
        "    fixture = utilities.simulate_draw(teams)\n",
        "    points_B = dict.fromkeys(players_B, 0)\n",
        "    for m in fixture[0:3]:\n",
        "      r = utilities.get_winner_team(players_B[m[0][0]][-1], players_B[m[0][1]][-1], players_B[m[1][0]][-1], players_B[m[1][1]][-1])\n",
        "      build_features.update_ELO(players_B, m[0][0], m[0][1], m[1][0], m[1][1], r)\n",
        "\n",
        "      if r == 1:\n",
        "        points_B[m[0][0]] += 1\n",
        "        points_B[m[0][1]] += 1\n",
        "        points_totalB[m[0][0]] += 1\n",
        "        points_totalB[m[0][1]] += 1\n",
        "      else:\n",
        "        points_B[m[1][0]] += 1\n",
        "        points_B[m[1][1]] += 1\n",
        "        points_totalB[m[1][0]] += 1\n",
        "        points_totalB[m[1][1]] += 1\n",
        "  \n",
        "  max_points = sorted(points_B.items(), key=lambda item: item[1], reverse=True)[0][1]\n",
        "  champions = [name for name, points in points_B.items() if points == max_points]\n",
        "\n",
        "  champsB.append(champions)"
      ]
    },
    {
      "cell_type": "code",
      "execution_count": 34,
      "metadata": {
        "colab": {
          "base_uri": "https://localhost:8080/"
        },
        "id": "SBXQc-qHnaGR",
        "outputId": "98a500da-c73d-4fc8-e6d3-57bfe5feb245"
      },
      "outputs": [
        {
          "data": {
            "text/plain": [
              "Counter({'Alejandro Vasquez': 496,\n",
              "         'Jose Carvallo': 507,\n",
              "         'Alonso Astroza': 507,\n",
              "         'Fernando Feres': 507,\n",
              "         'Sergio Concha': 507,\n",
              "         'Rodrigo Zigante': 496,\n",
              "         'Agustin Aldunate': 478,\n",
              "         'Alfonso Concha': 524,\n",
              "         'Rodrigo Holmberg': 478,\n",
              "         'Daniel Vega': 524,\n",
              "         'Andres Abujatum': 488,\n",
              "         'Patricio Roman': 488})"
            ]
          },
          "execution_count": 34,
          "metadata": {},
          "output_type": "execute_result"
        }
      ],
      "source": [
        "from collections import Counter\n",
        "\n",
        "Counter(x for xs in champsB for x in set(xs))"
      ]
    },
    {
      "cell_type": "code",
      "execution_count": 35,
      "metadata": {
        "colab": {
          "base_uri": "https://localhost:8080/"
        },
        "id": "-CNH1sRnGVax",
        "outputId": "a6e37f10-c338-4a51-b23c-e1d89c4e7c5a"
      },
      "outputs": [
        {
          "data": {
            "text/plain": [
              "[('Alfonso Concha', 0.1704),\n",
              " ('Daniel Vega', 0.1704),\n",
              " ('Alonso Astroza', 0.16933333333333334),\n",
              " ('Sergio Concha', 0.16933333333333334),\n",
              " ('Andres Abujatum', 0.16806666666666667),\n",
              " ('Patricio Roman', 0.16806666666666667),\n",
              " ('Alejandro Vasquez', 0.16553333333333334),\n",
              " ('Rodrigo Zigante', 0.16553333333333334),\n",
              " ('Jose Carvallo', 0.16353333333333334),\n",
              " ('Fernando Feres', 0.16353333333333334),\n",
              " ('Agustin Aldunate', 0.16313333333333332),\n",
              " ('Rodrigo Holmberg', 0.16313333333333332)]"
            ]
          },
          "execution_count": 35,
          "metadata": {},
          "output_type": "execute_result"
        }
      ],
      "source": [
        "points_total_normalizedB = {k: v / total for total in (sum(points_totalB.values())/2,) for k, v in points_totalB.items()}\n",
        "sorted(points_total_normalizedB.items(), key=lambda item: item[1], reverse=True)"
      ]
    },
    {
      "cell_type": "markdown",
      "metadata": {},
      "source": [
        "### Sistema C: Todo Random con Parejas Fijas"
      ]
    },
    {
      "cell_type": "code",
      "execution_count": 37,
      "metadata": {},
      "outputs": [],
      "source": [
        "players_C = players.copy()\n",
        "champs_C = []\n",
        "points_totalC = dict.fromkeys(players_C, 0)\n",
        "for k in range(1000):\n",
        "  players_C = players.copy()\n",
        "  players_names_sorted = sorted(players_C.items(), key=lambda item: item[1], reverse=True)\n",
        "  random.shuffle(players_names_sorted)\n",
        "  teams = []\n",
        "  nplayers = len(players_names_sorted)\n",
        "  for i in range(6):\n",
        "    teams.append([players_names_sorted[i][0], players_names_sorted[nplayers-i-1][0]])\n",
        "  fixture = utilities.simulate_draw(teams)\n",
        "  points_C = dict.fromkeys(players_C, 0)\n",
        "  for m in fixture:\n",
        "    r = utilities.get_winner_team(players_C[m[0][0]][-1], players_C[m[0][1]][-1], players_C[m[1][0]][-1], players_C[m[1][1]][-1])\n",
        "    build_features.update_ELO(players_C, m[0][0], m[0][1], m[1][0], m[1][1], r)\n",
        "\n",
        "    if r == 1:\n",
        "      points_C[m[0][0]] += 1\n",
        "      points_C[m[0][1]] += 1\n",
        "      points_totalC[m[0][0]] += 1\n",
        "      points_totalC[m[0][1]] += 1\n",
        "    else:\n",
        "      points_C[m[1][0]] += 1\n",
        "      points_C[m[1][1]] += 1\n",
        "      points_totalC[m[1][0]] += 1\n",
        "      points_totalC[m[1][1]] += 1\n",
        "  \n",
        "  max_points = sorted(points_C.items(), key=lambda item: item[1], reverse=True)[0][1]\n",
        "  champions = [name for name, points in points_C.items() if points == max_points]\n",
        "\n",
        "  champs_C.append(champions)\n"
      ]
    },
    {
      "cell_type": "code",
      "execution_count": 39,
      "metadata": {},
      "outputs": [
        {
          "data": {
            "text/plain": [
              "Counter({'Jose Carvallo': 258,\n",
              "         'Rodrigo Holmberg': 299,\n",
              "         'Patricio Roman': 274,\n",
              "         'Alonso Astroza': 273,\n",
              "         'Daniel Vega': 253,\n",
              "         'Fernando Feres': 279,\n",
              "         'Rodrigo Zigante': 292,\n",
              "         'Sergio Concha': 254,\n",
              "         'Andres Abujatum': 292,\n",
              "         'Agustin Aldunate': 276,\n",
              "         'Alfonso Concha': 282,\n",
              "         'Alejandro Vasquez': 258})"
            ]
          },
          "execution_count": 39,
          "metadata": {},
          "output_type": "execute_result"
        }
      ],
      "source": [
        "from collections import Counter\n",
        "\n",
        "Counter(x for xs in champs_C for x in set(xs))"
      ]
    },
    {
      "cell_type": "code",
      "execution_count": 40,
      "metadata": {},
      "outputs": [
        {
          "data": {
            "text/plain": [
              "[('Rodrigo Zigante', 0.16913333333333333),\n",
              " ('Rodrigo Holmberg', 0.1688),\n",
              " ('Fernando Feres', 0.168),\n",
              " ('Patricio Roman', 0.16753333333333334),\n",
              " ('Alonso Astroza', 0.1672),\n",
              " ('Daniel Vega', 0.1666),\n",
              " ('Andres Abujatum', 0.16613333333333333),\n",
              " ('Agustin Aldunate', 0.16573333333333334),\n",
              " ('Jose Carvallo', 0.16573333333333334),\n",
              " ('Alejandro Vasquez', 0.1656),\n",
              " ('Alfonso Concha', 0.1654),\n",
              " ('Sergio Concha', 0.16413333333333333)]"
            ]
          },
          "execution_count": 40,
          "metadata": {},
          "output_type": "execute_result"
        }
      ],
      "source": [
        "points_total_normalizedC = {k: v / total for total in (sum(points_totalC.values())/2,) for k, v in points_totalC.items()}\n",
        "sorted(points_total_normalizedC.items(), key=lambda item: item[1], reverse=True)"
      ]
    },
    {
      "cell_type": "markdown",
      "metadata": {
        "id": "lzMnfYLlHAld"
      },
      "source": [
        "## Comparación"
      ]
    },
    {
      "cell_type": "code",
      "execution_count": null,
      "metadata": {
        "id": "nzxE8FyqHBsO"
      },
      "outputs": [],
      "source": [
        "puntos_pobA = [points for name, points in points_totalA.items()]\n",
        "puntos_pobB = [points for name, points in points_totalB.items()]"
      ]
    },
    {
      "cell_type": "code",
      "execution_count": null,
      "metadata": {
        "colab": {
          "base_uri": "https://localhost:8080/"
        },
        "id": "M1-zSo3JHZf4",
        "outputId": "5a07c8d9-d476-4a4c-fb15-1397f3616a7d"
      },
      "outputs": [
        {
          "data": {
            "text/plain": [
              "[2480, 2483, 2483, 2480, 2493, 2528, 2510, 2506, 2528, 2493, 2510, 2506]"
            ]
          },
          "execution_count": 24,
          "metadata": {},
          "output_type": "execute_result"
        }
      ],
      "source": [
        "puntos_pobA"
      ]
    },
    {
      "cell_type": "code",
      "execution_count": null,
      "metadata": {
        "colab": {
          "base_uri": "https://localhost:8080/"
        },
        "id": "Sr0DcKlwHa4H",
        "outputId": "d0657502-5447-46cb-8fb9-64b19ccc7ddd"
      },
      "outputs": [
        {
          "data": {
            "text/plain": [
              "[2570, 2506, 2521, 2478, 2548, 2456, 2462, 2456, 2463, 2525, 2483, 2532]"
            ]
          },
          "execution_count": 25,
          "metadata": {},
          "output_type": "execute_result"
        }
      ],
      "source": [
        "puntos_pobB"
      ]
    },
    {
      "cell_type": "code",
      "execution_count": null,
      "metadata": {
        "colab": {
          "base_uri": "https://localhost:8080/",
          "height": 352
        },
        "id": "-0PCkhL1Hm57",
        "outputId": "f2b7f9c0-f2ad-437c-cb5c-d716acec7eb9"
      },
      "outputs": [
        {
          "data": {
            "text/plain": [
              "(array([0.06944444, 0.        , 0.03472222, 0.        , 0.        ,\n",
              "        0.03472222, 0.03472222, 0.        , 0.        , 0.03472222]),\n",
              " array([2480. , 2484.8, 2489.6, 2494.4, 2499.2, 2504. , 2508.8, 2513.6,\n",
              "        2518.4, 2523.2, 2528. ]),\n",
              " <a list of 10 Patch objects>)"
            ]
          },
          "execution_count": 28,
          "metadata": {},
          "output_type": "execute_result"
        },
        {
          "data": {
            "image/png": "[encoded data removed]",
            "text/plain": [
              "<Figure size 432x288 with 1 Axes>"
            ]
          },
          "metadata": {
            "needs_background": "light"
          },
          "output_type": "display_data"
        }
      ],
      "source": [
        "import matplotlib.pyplot as plt\n",
        "plt.hist(puntos_pobA, density=True)"
      ]
    },
    {
      "cell_type": "code",
      "execution_count": null,
      "metadata": {
        "colab": {
          "base_uri": "https://localhost:8080/",
          "height": 352
        },
        "id": "Ab8B--WGHvO-",
        "outputId": "91e88d91-299c-416a-b68f-eec2b8c098f6"
      },
      "outputs": [
        {
          "data": {
            "text/plain": [
              "(array([0.02923977, 0.00730994, 0.00730994, 0.        , 0.00730994,\n",
              "        0.00730994, 0.01461988, 0.        , 0.00730994, 0.00730994]),\n",
              " array([2456. , 2467.4, 2478.8, 2490.2, 2501.6, 2513. , 2524.4, 2535.8,\n",
              "        2547.2, 2558.6, 2570. ]),\n",
              " <a list of 10 Patch objects>)"
            ]
          },
          "execution_count": 29,
          "metadata": {},
          "output_type": "execute_result"
        },
        {
          "data": {
            "image/png": "[encoded data removed]",
            "text/plain": [
              "<Figure size 432x288 with 1 Axes>"
            ]
          },
          "metadata": {
            "needs_background": "light"
          },
          "output_type": "display_data"
        }
      ],
      "source": [
        "plt.hist(puntos_pobB, density=True)"
      ]
    }
  ],
  "metadata": {
    "colab": {
      "collapsed_sections": [],
      "name": "ELO-scriptipynb",
      "provenance": []
    },
    "interpreter": {
      "hash": "0b2eb3d3cc77185b6e800291ee681e10ab3f2682af5a7e403ba9e5e3e620ae51"
    },
    "kernelspec": {
      "display_name": "Python 3.8.12 ('padel')",
      "language": "python",
      "name": "python3"
    },
    "language_info": {
      "codemirror_mode": {
        "name": "ipython",
        "version": 3
      },
      "file_extension": ".py",
      "mimetype": "text/x-python",
      "name": "python",
      "nbconvert_exporter": "python",
      "pygments_lexer": "ipython3",
      "version": "3.8.12"
    }
  },
  "nbformat": 4,
  "nbformat_minor": 0
}
